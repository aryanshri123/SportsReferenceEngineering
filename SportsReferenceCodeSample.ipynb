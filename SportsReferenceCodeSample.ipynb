{
 "cells": [
  {
   "cell_type": "code",
   "execution_count": 109,
   "id": "35d05715-bb42-4d19-9b39-bc8118619ad1",
   "metadata": {},
   "outputs": [],
   "source": [
    "import pandas as pd\n",
    "import json\n",
    "import matplotlib.pyplot as plt"
   ]
  },
  {
   "cell_type": "markdown",
   "id": "c23015b0-e003-4fc5-b6ea-b661c3a972e3",
   "metadata": {},
   "source": [
    "# Pandas DataFrame Approach"
   ]
  },
  {
   "cell_type": "markdown",
   "id": "b10eb358-ad7e-479e-a009-b76abd8203a3",
   "metadata": {},
   "source": [
    "## Read in Data"
   ]
  },
  {
   "cell_type": "code",
   "execution_count": 103,
   "id": "1d4ec191-f133-4578-926b-6bd16987f813",
   "metadata": {},
   "outputs": [],
   "source": [
    "# replace this path with any other path to json file of same format\n",
    "path = 'records.json'"
   ]
  },
  {
   "cell_type": "code",
   "execution_count": 104,
   "id": "6a6c0049-dd08-4601-9223-ec07fb61c1b1",
   "metadata": {},
   "outputs": [],
   "source": [
    "df = pd.read_json(path)"
   ]
  },
  {
   "cell_type": "markdown",
   "id": "d7a782e1-7714-4edd-ac36-1055000a5754",
   "metadata": {},
   "source": [
    "## Reindex so that rows are in same order as columns"
   ]
  },
  {
   "cell_type": "code",
   "execution_count": 105,
   "id": "aa81d91e-09ff-49bb-933e-c879eab7958f",
   "metadata": {},
   "outputs": [],
   "source": [
    "# The second reindex is there so that Tm doesn't double stack on df\n",
    "df = df.reindex(index=df.columns).reindex()\n",
    "df.columns.name = 'Tm'"
   ]
  },
  {
   "cell_type": "markdown",
   "id": "7ba1c729-894e-4332-a74f-7d0f823e7f3d",
   "metadata": {},
   "source": [
    "## Get only the wins associated"
   ]
  },
  {
   "cell_type": "code",
   "execution_count": 106,
   "id": "f2e2f5c7-acdd-4553-971e-6b9cda8f6172",
   "metadata": {},
   "outputs": [],
   "source": [
    "def get_wins(row):\n",
    "    # getting L because want wins to read across rows, not down columns\n",
    "    return row.apply(lambda x: int(x['L']) if not isinstance(x, float) else '--')\n",
    "df = df.apply(get_wins)\n",
    "\n",
    "# alternative approach is to return x['W'] and then transpose df after applying the function. "
   ]
  },
  {
   "cell_type": "code",
   "execution_count": 107,
   "id": "12cc34e1-e3fd-40ab-98f7-8e5fcaf94aa0",
   "metadata": {},
   "outputs": [
    {
     "data": {
      "text/html": [
       "<div>\n",
       "<style scoped>\n",
       "    .dataframe tbody tr th:only-of-type {\n",
       "        vertical-align: middle;\n",
       "    }\n",
       "\n",
       "    .dataframe tbody tr th {\n",
       "        vertical-align: top;\n",
       "    }\n",
       "\n",
       "    .dataframe thead th {\n",
       "        text-align: right;\n",
       "    }\n",
       "</style>\n",
       "<table border=\"1\" class=\"dataframe\">\n",
       "  <thead>\n",
       "    <tr style=\"text-align: right;\">\n",
       "      <th>Tm</th>\n",
       "      <th>BRO</th>\n",
       "      <th>BSN</th>\n",
       "      <th>CHC</th>\n",
       "      <th>CIN</th>\n",
       "      <th>NYG</th>\n",
       "      <th>PHI</th>\n",
       "      <th>PIT</th>\n",
       "      <th>STL</th>\n",
       "    </tr>\n",
       "  </thead>\n",
       "  <tbody>\n",
       "    <tr>\n",
       "      <th>BRO</th>\n",
       "      <td>--</td>\n",
       "      <td>10</td>\n",
       "      <td>15</td>\n",
       "      <td>15</td>\n",
       "      <td>14</td>\n",
       "      <td>14</td>\n",
       "      <td>15</td>\n",
       "      <td>11</td>\n",
       "    </tr>\n",
       "    <tr>\n",
       "      <th>BSN</th>\n",
       "      <td>12</td>\n",
       "      <td>--</td>\n",
       "      <td>13</td>\n",
       "      <td>13</td>\n",
       "      <td>13</td>\n",
       "      <td>14</td>\n",
       "      <td>12</td>\n",
       "      <td>9</td>\n",
       "    </tr>\n",
       "    <tr>\n",
       "      <th>CHC</th>\n",
       "      <td>7</td>\n",
       "      <td>9</td>\n",
       "      <td>--</td>\n",
       "      <td>12</td>\n",
       "      <td>7</td>\n",
       "      <td>16</td>\n",
       "      <td>8</td>\n",
       "      <td>10</td>\n",
       "    </tr>\n",
       "    <tr>\n",
       "      <th>CIN</th>\n",
       "      <td>7</td>\n",
       "      <td>9</td>\n",
       "      <td>10</td>\n",
       "      <td>--</td>\n",
       "      <td>13</td>\n",
       "      <td>13</td>\n",
       "      <td>13</td>\n",
       "      <td>8</td>\n",
       "    </tr>\n",
       "    <tr>\n",
       "      <th>NYG</th>\n",
       "      <td>8</td>\n",
       "      <td>9</td>\n",
       "      <td>15</td>\n",
       "      <td>9</td>\n",
       "      <td>--</td>\n",
       "      <td>12</td>\n",
       "      <td>15</td>\n",
       "      <td>13</td>\n",
       "    </tr>\n",
       "    <tr>\n",
       "      <th>PHI</th>\n",
       "      <td>8</td>\n",
       "      <td>8</td>\n",
       "      <td>6</td>\n",
       "      <td>9</td>\n",
       "      <td>10</td>\n",
       "      <td>--</td>\n",
       "      <td>13</td>\n",
       "      <td>8</td>\n",
       "    </tr>\n",
       "    <tr>\n",
       "      <th>PIT</th>\n",
       "      <td>7</td>\n",
       "      <td>10</td>\n",
       "      <td>14</td>\n",
       "      <td>9</td>\n",
       "      <td>7</td>\n",
       "      <td>9</td>\n",
       "      <td>--</td>\n",
       "      <td>6</td>\n",
       "    </tr>\n",
       "    <tr>\n",
       "      <th>STL</th>\n",
       "      <td>11</td>\n",
       "      <td>13</td>\n",
       "      <td>12</td>\n",
       "      <td>14</td>\n",
       "      <td>9</td>\n",
       "      <td>14</td>\n",
       "      <td>16</td>\n",
       "      <td>--</td>\n",
       "    </tr>\n",
       "  </tbody>\n",
       "</table>\n",
       "</div>"
      ],
      "text/plain": [
       "Tm  BRO BSN CHC CIN NYG PHI PIT STL\n",
       "BRO  --  10  15  15  14  14  15  11\n",
       "BSN  12  --  13  13  13  14  12   9\n",
       "CHC   7   9  --  12   7  16   8  10\n",
       "CIN   7   9  10  --  13  13  13   8\n",
       "NYG   8   9  15   9  --  12  15  13\n",
       "PHI   8   8   6   9  10  --  13   8\n",
       "PIT   7  10  14   9   7   9  --   6\n",
       "STL  11  13  12  14   9  14  16  --"
      ]
     },
     "execution_count": 107,
     "metadata": {},
     "output_type": "execute_result"
    }
   ],
   "source": [
    "df"
   ]
  },
  {
   "cell_type": "markdown",
   "id": "631ddbd7-1cd3-49fe-8bb2-d11aca7fa737",
   "metadata": {},
   "source": [
    "# Iterative approach"
   ]
  },
  {
   "cell_type": "markdown",
   "id": "d7915087-329c-4c46-8edb-b811942580b6",
   "metadata": {},
   "source": [
    "## Load in Data"
   ]
  },
  {
   "cell_type": "code",
   "execution_count": 97,
   "id": "462f6808-b60c-484c-b2c6-67723ff29fff",
   "metadata": {},
   "outputs": [],
   "source": [
    "with open(path) as f:\n",
    "    data = json.load(f)"
   ]
  },
  {
   "cell_type": "markdown",
   "id": "18b3b73c-6ab8-423e-8e87-93563d0e5d11",
   "metadata": {},
   "source": [
    "## Construct a table-like data structure"
   ]
  },
  {
   "cell_type": "code",
   "execution_count": 98,
   "id": "eb09143c-4356-4c31-bd2a-de67b9ad664d",
   "metadata": {},
   "outputs": [],
   "source": [
    "table = []\n",
    "ordering = list(data.keys())\n",
    "for team, opps in data.items():\n",
    "    # Our first column needs to be the teams\n",
    "    row = [0] * (len(ordering) + 1)\n",
    "    row[0] = team\n",
    "    # Find the number of wins for the team against an opp\n",
    "    for i, t in enumerate(ordering):\n",
    "        # case for itself (e.g. BRO vs BRO)\n",
    "        if t not in opps.keys():\n",
    "            row[i+1] = '--'\n",
    "        else:\n",
    "            row[i+1] = opps[t]['W']\n",
    "        \n",
    "    table.append(row)"
   ]
  },
  {
   "cell_type": "markdown",
   "id": "bd951e3e-8854-45ac-b768-76bbe28bc1a0",
   "metadata": {},
   "source": [
    "## Visualize the table"
   ]
  },
  {
   "cell_type": "code",
   "execution_count": 99,
   "id": "d216f5dc-f849-4450-a621-f30d0632520b",
   "metadata": {},
   "outputs": [
    {
     "data": {
      "image/png": "[encoded data removed]",
      "text/plain": [
       "<Figure size 640x480 with 1 Axes>"
      ]
     },
     "metadata": {},
     "output_type": "display_data"
    }
   ],
   "source": [
    "fig, ax = plt.subplots()\n",
    "\n",
    "# Hide axes\n",
    "ax.xaxis.set_visible(False) \n",
    "ax.yaxis.set_visible(False)\n",
    "\n",
    "ax.table(cellText=table,colLabels=['Tm'] + ordering,loc='center')\n",
    "plt.show()"
   ]
  },
  {
   "cell_type": "code",
   "execution_count": null,
   "id": "77b64620-2a65-461b-bcda-03de654d9b78",
   "metadata": {},
   "outputs": [],
   "source": []
  }
 ],
 "metadata": {
  "kernelspec": {
   "display_name": "Python 3 (ipykernel)",
   "language": "python",
   "name": "python3"
  },
  "language_info": {
   "codemirror_mode": {
    "name": "ipython",
    "version": 3
   },
   "file_extension": ".py",
   "mimetype": "text/x-python",
   "name": "python",
   "nbconvert_exporter": "python",
   "pygments_lexer": "ipython3",
   "version": "3.12.1"
  }
 },
 "nbformat": 4,
 "nbformat_minor": 5
}
